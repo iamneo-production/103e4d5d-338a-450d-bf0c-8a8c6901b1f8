{
  "nbformat": 4,
  "nbformat_minor": 0,
  "metadata": {
    "colab": {
      "provenance": [],
      "toc_visible": true,
      "authorship_tag": "ABX9TyPPKWq6EPevCphaRPdlx82g",
      "include_colab_link": true
    },
    "kernelspec": {
      "name": "python3",
      "display_name": "Python 3"
    },
    "language_info": {
      "name": "python"
    }
  },
  "cells": [
    {
      "cell_type": "markdown",
      "metadata": {
        "id": "view-in-github",
        "colab_type": "text"
      },
      "source": [
        "<a href=\"https://colab.research.google.com/github/codevishal32/103e4d5d-338a-450d-bf0c-8a8c6901b1f8/blob/main/Untitled3.ipynb\" target=\"_parent\"><img src=\"https://colab.research.google.com/assets/colab-badge.svg\" alt=\"Open In Colab\"/></a>"
      ]
    },
    {
      "cell_type": "code",
      "execution_count": 1,
      "metadata": {
        "colab": {
          "base_uri": "https://localhost:8080/"
        },
        "id": "h7z-b7QAbdM8",
        "outputId": "45bd877e-f5e1-4d72-bf9c-d9f64fa6fa6c"
      },
      "outputs": [
        {
          "output_type": "stream",
          "name": "stdout",
          "text": [
            "Looking in indexes: https://pypi.org/simple, https://us-python.pkg.dev/colab-wheels/public/simple/\n",
            "\u001b[31mERROR: Could not find a version that satisfies the requirement tensorflow==2.3.0 (from versions: 2.8.0rc0, 2.8.0rc1, 2.8.0, 2.8.1, 2.8.2, 2.8.3, 2.8.4, 2.9.0rc0, 2.9.0rc1, 2.9.0rc2, 2.9.0, 2.9.1, 2.9.2, 2.9.3, 2.10.0rc0, 2.10.0rc1, 2.10.0rc2, 2.10.0rc3, 2.10.0, 2.10.1, 2.11.0rc0, 2.11.0rc1, 2.11.0rc2, 2.11.0, 2.11.1, 2.12.0rc0, 2.12.0rc1, 2.12.0, 2.13.0rc0, 2.13.0rc1)\u001b[0m\u001b[31m\n",
            "\u001b[0m\u001b[31mERROR: No matching distribution found for tensorflow==2.3.0\u001b[0m\u001b[31m\n",
            "\u001b[0mLooking in indexes: https://pypi.org/simple, https://us-python.pkg.dev/colab-wheels/public/simple/\n",
            "Requirement already satisfied: gym in /usr/local/lib/python3.10/dist-packages (0.25.2)\n",
            "Requirement already satisfied: numpy>=1.18.0 in /usr/local/lib/python3.10/dist-packages (from gym) (1.22.4)\n",
            "Requirement already satisfied: cloudpickle>=1.2.0 in /usr/local/lib/python3.10/dist-packages (from gym) (2.2.1)\n",
            "Requirement already satisfied: gym-notices>=0.0.4 in /usr/local/lib/python3.10/dist-packages (from gym) (0.0.8)\n",
            "Looking in indexes: https://pypi.org/simple, https://us-python.pkg.dev/colab-wheels/public/simple/\n",
            "Requirement already satisfied: keras in /usr/local/lib/python3.10/dist-packages (2.12.0)\n",
            "/bin/bash: -c: line 0: unexpected EOF while looking for matching `\"'\n",
            "/bin/bash: -c: line 1: syntax error: unexpected end of file\n"
          ]
        }
      ],
      "source": [
        "!pip install tensorflow==2.3.0\n",
        "!pip install gym\n",
        "!pip install keras\n",
        "!pip install keras-rl2\""
      ]
    },
    {
      "cell_type": "code",
      "source": [
        "from gym import Env\n",
        "from gym.spaces import Discrete,Box\n",
        "import numpy as np\n",
        "import random"
      ],
      "metadata": {
        "colab": {
          "base_uri": "https://localhost:8080/"
        },
        "id": "ZyhdhAiDbncR",
        "outputId": "4c933a3b-593e-49ad-e5d2-ef9df154ae6a"
      },
      "execution_count": 3,
      "outputs": [
        {
          "output_type": "stream",
          "name": "stderr",
          "text": [
            "/usr/local/lib/python3.10/dist-packages/ipykernel/ipkernel.py:283: DeprecationWarning: `should_run_async` will not call `transform_cell` automatically in the future. Please pass the result to `transformed_cell` argument and any exception that happen during thetransform in `preprocessing_exc_tuple` in IPython 7.17 and above.\n",
            "  and should_run_async(code)\n"
          ]
        }
      ]
    },
    {
      "cell_type": "code",
      "source": [
        "class ShowerEnv(Env):\n",
        "  def __init__(self):\n",
        "    self.action_space=Discrete(3)\n",
        "    self.observation_space=Box(low=np.array([0]),high=np.array([100]))\n",
        "    self.state=38+random.randint(-3,3)\n",
        "    self.shower_length=60\n",
        "\n",
        "  def step(self,action):\n",
        "    self.state+=action-1;\n",
        "    self.shower_length-=1\n",
        "\n",
        "    if self.state >=37 and self.state <=39:\n",
        "      reward=1\n",
        "    else:\n",
        "      reward=-1\n",
        "\n",
        "    if self.shower_length<=0:\n",
        "      done=True\n",
        "    else:\n",
        "      done=False\n",
        "\n",
        "    #self.state+=random.randint(-1,1)\n",
        "\n",
        "    info={}\n",
        "    return self.state,reward,done,info\n",
        "\n",
        "\n",
        "  def render(self):\n",
        "    pass\n",
        "\n",
        "  def reset(self):\n",
        "    self.state=38+random.randint(-3,3)\n",
        "    self.shower_length=60\n",
        "    return self.state"
      ],
      "metadata": {
        "id": "TiAFzbLvb5To"
      },
      "execution_count": 32,
      "outputs": []
    },
    {
      "cell_type": "code",
      "source": [
        "env=ShowerEnv()"
      ],
      "metadata": {
        "colab": {
          "base_uri": "https://localhost:8080/"
        },
        "id": "eLsC0RIvgMnS",
        "outputId": "3a822a46-842d-4137-9d63-f6ac564718fd"
      },
      "execution_count": 33,
      "outputs": [
        {
          "output_type": "stream",
          "name": "stderr",
          "text": [
            "/usr/local/lib/python3.10/dist-packages/gym/spaces/box.py:128: UserWarning: \u001b[33mWARN: Box bound precision lowered by casting to float32\u001b[0m\n",
            "  logger.warn(f\"Box bound precision lowered by casting to {self.dtype}\")\n"
          ]
        }
      ]
    },
    {
      "cell_type": "code",
      "source": [
        "env.action_space.sample()"
      ],
      "metadata": {
        "colab": {
          "base_uri": "https://localhost:8080/"
        },
        "id": "LT63aBAJgYgt",
        "outputId": "28541543-b8e3-4679-e7c4-489f8770371b"
      },
      "execution_count": 34,
      "outputs": [
        {
          "output_type": "execute_result",
          "data": {
            "text/plain": [
              "0"
            ]
          },
          "metadata": {},
          "execution_count": 34
        }
      ]
    },
    {
      "cell_type": "code",
      "source": [
        "env.observation_space.sample()"
      ],
      "metadata": {
        "colab": {
          "base_uri": "https://localhost:8080/"
        },
        "id": "C6jinY4UgcmV",
        "outputId": "5e6bb060-5a7f-4cb3-a6f6-51ff0a2961f8"
      },
      "execution_count": 35,
      "outputs": [
        {
          "output_type": "execute_result",
          "data": {
            "text/plain": [
              "array([96.486206], dtype=float32)"
            ]
          },
          "metadata": {},
          "execution_count": 35
        }
      ]
    },
    {
      "cell_type": "code",
      "source": [
        "episodes = 10\n",
        "for episode in range(1, episodes+1):\n",
        "    state = env.reset()\n",
        "    done = False\n",
        "    score = 0\n",
        "\n",
        "    while not done:\n",
        "        #env.render()\n",
        "        action = env.action_space.sample()\n",
        "        n_state, reward, done, info = env.step(action)\n",
        "        score+=reward\n",
        "    print('Episode:{} Score:{}'.format(episode, score))"
      ],
      "metadata": {
        "colab": {
          "base_uri": "https://localhost:8080/"
        },
        "id": "XQXPlGFmglfs",
        "outputId": "725711e0-80b8-4bc5-8401-35354f8bdd2c"
      },
      "execution_count": 36,
      "outputs": [
        {
          "output_type": "stream",
          "name": "stdout",
          "text": [
            "Episode:1 Score:-22\n",
            "Episode:2 Score:16\n",
            "Episode:3 Score:-48\n",
            "Episode:4 Score:-46\n",
            "Episode:5 Score:-56\n",
            "Episode:6 Score:-54\n",
            "Episode:7 Score:0\n",
            "Episode:8 Score:0\n",
            "Episode:9 Score:2\n",
            "Episode:10 Score:-4\n"
          ]
        }
      ]
    },
    {
      "cell_type": "markdown",
      "source": [
        "**2. Create a Deep Learning Model with Keras**"
      ],
      "metadata": {
        "id": "-3LkXzCvhrn4"
      }
    },
    {
      "cell_type": "code",
      "source": [
        "import numpy as np\n",
        "from tensorflow.keras.models import Sequential\n",
        "from tensorflow.keras.layers import Dense, Flatten\n",
        "from tensorflow.keras.optimizers import Adam"
      ],
      "metadata": {
        "id": "SOgCYSD4g0N3"
      },
      "execution_count": 37,
      "outputs": []
    },
    {
      "cell_type": "code",
      "source": [
        "states = env.observation_space.shape\n",
        "actions = env.action_space.n\n"
      ],
      "metadata": {
        "id": "7djGt59Jh1yf"
      },
      "execution_count": 38,
      "outputs": []
    },
    {
      "cell_type": "code",
      "source": [
        "print(states)\n",
        "print(actions)"
      ],
      "metadata": {
        "colab": {
          "base_uri": "https://localhost:8080/"
        },
        "id": "A5DUfZ1uh446",
        "outputId": "7494f953-42e5-4a64-fc35-40c2ee8043f4"
      },
      "execution_count": 39,
      "outputs": [
        {
          "output_type": "stream",
          "name": "stdout",
          "text": [
            "(1,)\n",
            "3\n"
          ]
        }
      ]
    },
    {
      "cell_type": "code",
      "source": [
        "def buildModel(statez, actiones):\n",
        "    model = tf.keras.Sequential()\n",
        "    model.add(Flatten(input_shape=(1, statez)))\n",
        "    model.add(Dense(24, activation='relu'))\n",
        "    model.add(Dense(24, activation='relu'))\n",
        "    model.add(Dense(actiones, activation='linear'))\n",
        "    return model"
      ],
      "metadata": {
        "id": "JKyZerjQh6T5"
      },
      "execution_count": 54,
      "outputs": []
    },
    {
      "cell_type": "code",
      "source": [
        "del model"
      ],
      "metadata": {
        "colab": {
          "base_uri": "https://localhost:8080/"
        },
        "id": "XPYII2tqkYtt",
        "outputId": "cf8fae31-9716-4b31-e52c-15dca25ffaef"
      },
      "execution_count": 47,
      "outputs": [
        {
          "output_type": "stream",
          "name": "stderr",
          "text": [
            "/usr/local/lib/python3.10/dist-packages/ipykernel/ipkernel.py:283: DeprecationWarning: `should_run_async` will not call `transform_cell` automatically in the future. Please pass the result to `transformed_cell` argument and any exception that happen during thetransform in `preprocessing_exc_tuple` in IPython 7.17 and above.\n",
            "  and should_run_async(code)\n"
          ]
        }
      ]
    },
    {
      "cell_type": "code",
      "source": [
        "model = build_model(states, actions)"
      ],
      "metadata": {
        "id": "f4gzMw0aieIG"
      },
      "execution_count": 55,
      "outputs": []
    },
    {
      "cell_type": "code",
      "source": [
        "model.summary()"
      ],
      "metadata": {
        "colab": {
          "base_uri": "https://localhost:8080/"
        },
        "id": "FtJ7JWttih71",
        "outputId": "09c454ab-a06f-4d76-e820-2e8417251a22"
      },
      "execution_count": 56,
      "outputs": [
        {
          "output_type": "stream",
          "name": "stdout",
          "text": [
            "Model: \"sequential_3\"\n",
            "_________________________________________________________________\n",
            " Layer (type)                Output Shape              Param #   \n",
            "=================================================================\n",
            " dense_9 (Dense)             (None, 24)                48        \n",
            "                                                                 \n",
            " dense_10 (Dense)            (None, 24)                600       \n",
            "                                                                 \n",
            " dense_11 (Dense)            (None, 3)                 75        \n",
            "                                                                 \n",
            "=================================================================\n",
            "Total params: 723\n",
            "Trainable params: 723\n",
            "Non-trainable params: 0\n",
            "_________________________________________________________________\n"
          ]
        }
      ]
    },
    {
      "cell_type": "markdown",
      "source": [
        "**3. Build Agent with Keras-RL**\n"
      ],
      "metadata": {
        "id": "R138_2q-iswl"
      }
    },
    {
      "cell_type": "code",
      "source": [
        "from rl.agents.dqn import DQNAgent\n",
        "from rl.policy import BoltzmannQPolicy\n",
        "from rl.memory import SequentialMemory\n",
        "import tensorflow as tf\n",
        "from tensorflow.keras.optimizers.legacy import Adam"
      ],
      "metadata": {
        "id": "62qFx1_iior-"
      },
      "execution_count": 63,
      "outputs": []
    },
    {
      "cell_type": "code",
      "source": [
        "def build_agent(model, actions):\n",
        "    policy = BoltzmannQPolicy()\n",
        "    memory = SequentialMemory(limit=50000, window_length=1)\n",
        "    dqn = DQNAgent(model=model, memory=memory, policy=policy,\n",
        "                  nb_actions=actions, nb_steps_warmup=10, target_model_update=1e-2)\n",
        "    return dqn"
      ],
      "metadata": {
        "id": "rHkzZJaxi2li"
      },
      "execution_count": 64,
      "outputs": []
    },
    {
      "cell_type": "code",
      "source": [
        "DQN = build_agent(model, actions)\n",
        "DQN.compile(Adam(learning_rate=1e-3), metrics=['mae'])\n",
        "DQN.fit(env, nb_steps=50000, visualize=False, verbose=1)"
      ],
      "metadata": {
        "colab": {
          "base_uri": "https://localhost:8080/"
        },
        "id": "AF8v8Zn2jZY7",
        "outputId": "0780f915-4bab-4955-9808-39a4780cd709"
      },
      "execution_count": 66,
      "outputs": [
        {
          "output_type": "stream",
          "name": "stdout",
          "text": [
            "Training for 50000 steps ...\n",
            "Interval 1 (0 steps performed)\n",
            "\r    1/10000 [..............................] - ETA: 23:33 - reward: 1.0000"
          ]
        },
        {
          "output_type": "stream",
          "name": "stderr",
          "text": [
            "/usr/local/lib/python3.10/dist-packages/keras/engine/training_v1.py:2359: UserWarning: `Model.state_updates` will be removed in a future version. This property should not be used in TensorFlow 2.0, as `updates` are applied automatically.\n",
            "  updates=self.state_updates,\n",
            "/usr/local/lib/python3.10/dist-packages/rl/memory.py:37: UserWarning: Not enough entries to sample without replacement. Consider increasing your warm-up phase to avoid oversampling!\n",
            "  warnings.warn('Not enough entries to sample without replacement. Consider increasing your warm-up phase to avoid oversampling!')\n",
            "/usr/local/lib/python3.10/dist-packages/rl/memory.py:38: DeprecationWarning: This function is deprecated. Please call randint(1, 10 + 1) instead\n",
            "  batch_idxs = np.random.random_integers(low, high - 1, size=size)\n"
          ]
        },
        {
          "output_type": "stream",
          "name": "stdout",
          "text": [
            "   32/10000 [..............................] - ETA: 5:22 - reward: -0.6875"
          ]
        },
        {
          "output_type": "stream",
          "name": "stderr",
          "text": [
            "/usr/local/lib/python3.10/dist-packages/rl/memory.py:38: DeprecationWarning: This function is deprecated. Please call randint(1, 11 + 1) instead\n",
            "  batch_idxs = np.random.random_integers(low, high - 1, size=size)\n",
            "/usr/local/lib/python3.10/dist-packages/rl/memory.py:38: DeprecationWarning: This function is deprecated. Please call randint(1, 12 + 1) instead\n",
            "  batch_idxs = np.random.random_integers(low, high - 1, size=size)\n",
            "/usr/local/lib/python3.10/dist-packages/rl/memory.py:38: DeprecationWarning: This function is deprecated. Please call randint(1, 13 + 1) instead\n",
            "  batch_idxs = np.random.random_integers(low, high - 1, size=size)\n",
            "/usr/local/lib/python3.10/dist-packages/rl/memory.py:38: DeprecationWarning: This function is deprecated. Please call randint(1, 14 + 1) instead\n",
            "  batch_idxs = np.random.random_integers(low, high - 1, size=size)\n",
            "/usr/local/lib/python3.10/dist-packages/rl/memory.py:38: DeprecationWarning: This function is deprecated. Please call randint(1, 15 + 1) instead\n",
            "  batch_idxs = np.random.random_integers(low, high - 1, size=size)\n",
            "/usr/local/lib/python3.10/dist-packages/rl/memory.py:38: DeprecationWarning: This function is deprecated. Please call randint(1, 16 + 1) instead\n",
            "  batch_idxs = np.random.random_integers(low, high - 1, size=size)\n",
            "/usr/local/lib/python3.10/dist-packages/rl/memory.py:38: DeprecationWarning: This function is deprecated. Please call randint(1, 17 + 1) instead\n",
            "  batch_idxs = np.random.random_integers(low, high - 1, size=size)\n",
            "/usr/local/lib/python3.10/dist-packages/rl/memory.py:38: DeprecationWarning: This function is deprecated. Please call randint(1, 18 + 1) instead\n",
            "  batch_idxs = np.random.random_integers(low, high - 1, size=size)\n",
            "/usr/local/lib/python3.10/dist-packages/rl/memory.py:38: DeprecationWarning: This function is deprecated. Please call randint(1, 19 + 1) instead\n",
            "  batch_idxs = np.random.random_integers(low, high - 1, size=size)\n",
            "/usr/local/lib/python3.10/dist-packages/rl/memory.py:38: DeprecationWarning: This function is deprecated. Please call randint(1, 20 + 1) instead\n",
            "  batch_idxs = np.random.random_integers(low, high - 1, size=size)\n",
            "/usr/local/lib/python3.10/dist-packages/rl/memory.py:38: DeprecationWarning: This function is deprecated. Please call randint(1, 21 + 1) instead\n",
            "  batch_idxs = np.random.random_integers(low, high - 1, size=size)\n",
            "/usr/local/lib/python3.10/dist-packages/rl/memory.py:38: DeprecationWarning: This function is deprecated. Please call randint(1, 22 + 1) instead\n",
            "  batch_idxs = np.random.random_integers(low, high - 1, size=size)\n",
            "/usr/local/lib/python3.10/dist-packages/rl/memory.py:38: DeprecationWarning: This function is deprecated. Please call randint(1, 23 + 1) instead\n",
            "  batch_idxs = np.random.random_integers(low, high - 1, size=size)\n",
            "/usr/local/lib/python3.10/dist-packages/rl/memory.py:38: DeprecationWarning: This function is deprecated. Please call randint(1, 24 + 1) instead\n",
            "  batch_idxs = np.random.random_integers(low, high - 1, size=size)\n",
            "/usr/local/lib/python3.10/dist-packages/rl/memory.py:38: DeprecationWarning: This function is deprecated. Please call randint(1, 25 + 1) instead\n",
            "  batch_idxs = np.random.random_integers(low, high - 1, size=size)\n",
            "/usr/local/lib/python3.10/dist-packages/rl/memory.py:38: DeprecationWarning: This function is deprecated. Please call randint(1, 26 + 1) instead\n",
            "  batch_idxs = np.random.random_integers(low, high - 1, size=size)\n",
            "/usr/local/lib/python3.10/dist-packages/rl/memory.py:38: DeprecationWarning: This function is deprecated. Please call randint(1, 27 + 1) instead\n",
            "  batch_idxs = np.random.random_integers(low, high - 1, size=size)\n",
            "/usr/local/lib/python3.10/dist-packages/rl/memory.py:38: DeprecationWarning: This function is deprecated. Please call randint(1, 28 + 1) instead\n",
            "  batch_idxs = np.random.random_integers(low, high - 1, size=size)\n",
            "/usr/local/lib/python3.10/dist-packages/rl/memory.py:38: DeprecationWarning: This function is deprecated. Please call randint(1, 29 + 1) instead\n",
            "  batch_idxs = np.random.random_integers(low, high - 1, size=size)\n",
            "/usr/local/lib/python3.10/dist-packages/rl/memory.py:38: DeprecationWarning: This function is deprecated. Please call randint(1, 30 + 1) instead\n",
            "  batch_idxs = np.random.random_integers(low, high - 1, size=size)\n",
            "/usr/local/lib/python3.10/dist-packages/rl/memory.py:38: DeprecationWarning: This function is deprecated. Please call randint(1, 31 + 1) instead\n",
            "  batch_idxs = np.random.random_integers(low, high - 1, size=size)\n"
          ]
        },
        {
          "output_type": "stream",
          "name": "stdout",
          "text": [
            "10000/10000 [==============================] - 90s 9ms/step - reward: -0.4506\n",
            "166 episodes - episode_reward: -26.964 [-60.000, 36.000] - loss: 0.917 - mae: 5.546 - mean_q: -7.430\n",
            "\n",
            "Interval 2 (10000 steps performed)\n",
            "10000/10000 [==============================] - 88s 9ms/step - reward: -0.3462\n",
            "167 episodes - episode_reward: -20.802 [-60.000, 36.000] - loss: 1.450 - mae: 8.049 - mean_q: -11.382\n",
            "\n",
            "Interval 3 (20000 steps performed)\n",
            "10000/10000 [==============================] - 89s 9ms/step - reward: -0.3270\n",
            "167 episodes - episode_reward: -19.689 [-60.000, 38.000] - loss: 1.302 - mae: 7.573 - mean_q: -10.688\n",
            "\n",
            "Interval 4 (30000 steps performed)\n",
            "10000/10000 [==============================] - 89s 9ms/step - reward: -0.2744\n",
            "166 episodes - episode_reward: -16.530 [-60.000, 42.000] - loss: 1.269 - mae: 7.205 - mean_q: -10.142\n",
            "\n",
            "Interval 5 (40000 steps performed)\n",
            "10000/10000 [==============================] - 91s 9ms/step - reward: -0.4022\n",
            "done, took 447.657 seconds\n"
          ]
        },
        {
          "output_type": "execute_result",
          "data": {
            "text/plain": [
              "<keras.callbacks.History at 0x7fd620579930>"
            ]
          },
          "metadata": {},
          "execution_count": 66
        }
      ]
    },
    {
      "cell_type": "code",
      "source": [
        "scores = DQN.test(env, nb_episodes=100, visualize=False)\n",
        "print(np.mean(scores.history['episode_reward']))"
      ],
      "metadata": {
        "colab": {
          "base_uri": "https://localhost:8080/"
        },
        "id": "tR4MySoWjdHp",
        "outputId": "26ad4278-811a-4c5b-84e1-eec3a98634a0"
      },
      "execution_count": 68,
      "outputs": [
        {
          "output_type": "stream",
          "name": "stderr",
          "text": [
            "/usr/local/lib/python3.10/dist-packages/ipykernel/ipkernel.py:283: DeprecationWarning: `should_run_async` will not call `transform_cell` automatically in the future. Please pass the result to `transformed_cell` argument and any exception that happen during thetransform in `preprocessing_exc_tuple` in IPython 7.17 and above.\n",
            "  and should_run_async(code)\n"
          ]
        },
        {
          "output_type": "stream",
          "name": "stdout",
          "text": [
            "Testing for 100 episodes ...\n",
            "Episode 1: reward: -60.000, steps: 60\n",
            "Episode 2: reward: 60.000, steps: 60\n",
            "Episode 3: reward: 60.000, steps: 60\n",
            "Episode 4: reward: -60.000, steps: 60\n",
            "Episode 5: reward: -60.000, steps: 60\n",
            "Episode 6: reward: -60.000, steps: 60\n",
            "Episode 7: reward: 60.000, steps: 60\n",
            "Episode 8: reward: 60.000, steps: 60\n",
            "Episode 9: reward: -60.000, steps: 60\n",
            "Episode 10: reward: -60.000, steps: 60\n",
            "Episode 11: reward: -60.000, steps: 60\n",
            "Episode 12: reward: -60.000, steps: 60\n",
            "Episode 13: reward: 60.000, steps: 60\n",
            "Episode 14: reward: -60.000, steps: 60\n",
            "Episode 15: reward: -60.000, steps: 60\n",
            "Episode 16: reward: -60.000, steps: 60\n",
            "Episode 17: reward: 60.000, steps: 60\n",
            "Episode 18: reward: 60.000, steps: 60\n",
            "Episode 19: reward: -60.000, steps: 60\n",
            "Episode 20: reward: 60.000, steps: 60\n",
            "Episode 21: reward: 60.000, steps: 60\n",
            "Episode 22: reward: -60.000, steps: 60\n",
            "Episode 23: reward: -60.000, steps: 60\n",
            "Episode 24: reward: -60.000, steps: 60\n",
            "Episode 25: reward: -60.000, steps: 60\n",
            "Episode 26: reward: 60.000, steps: 60\n",
            "Episode 27: reward: -60.000, steps: 60\n",
            "Episode 28: reward: -60.000, steps: 60\n",
            "Episode 29: reward: 60.000, steps: 60\n",
            "Episode 30: reward: 60.000, steps: 60\n",
            "Episode 31: reward: -60.000, steps: 60\n",
            "Episode 32: reward: 60.000, steps: 60\n",
            "Episode 33: reward: 60.000, steps: 60\n",
            "Episode 34: reward: 60.000, steps: 60\n",
            "Episode 35: reward: 60.000, steps: 60\n",
            "Episode 36: reward: -60.000, steps: 60\n",
            "Episode 37: reward: -60.000, steps: 60\n",
            "Episode 38: reward: -60.000, steps: 60\n",
            "Episode 39: reward: -60.000, steps: 60\n",
            "Episode 40: reward: -60.000, steps: 60\n",
            "Episode 41: reward: 60.000, steps: 60\n",
            "Episode 42: reward: 60.000, steps: 60\n",
            "Episode 43: reward: 60.000, steps: 60\n",
            "Episode 44: reward: -60.000, steps: 60\n",
            "Episode 45: reward: -60.000, steps: 60\n",
            "Episode 46: reward: -60.000, steps: 60\n",
            "Episode 47: reward: -60.000, steps: 60\n",
            "Episode 48: reward: -60.000, steps: 60\n",
            "Episode 49: reward: 60.000, steps: 60\n",
            "Episode 50: reward: 60.000, steps: 60\n",
            "Episode 51: reward: -60.000, steps: 60\n",
            "Episode 52: reward: -60.000, steps: 60\n",
            "Episode 53: reward: -60.000, steps: 60\n",
            "Episode 54: reward: -60.000, steps: 60\n",
            "Episode 55: reward: 60.000, steps: 60\n",
            "Episode 56: reward: -60.000, steps: 60\n",
            "Episode 57: reward: -60.000, steps: 60\n",
            "Episode 58: reward: -60.000, steps: 60\n",
            "Episode 59: reward: -60.000, steps: 60\n",
            "Episode 60: reward: -60.000, steps: 60\n",
            "Episode 61: reward: -60.000, steps: 60\n",
            "Episode 62: reward: 60.000, steps: 60\n",
            "Episode 63: reward: 60.000, steps: 60\n",
            "Episode 64: reward: -60.000, steps: 60\n",
            "Episode 65: reward: -60.000, steps: 60\n",
            "Episode 66: reward: 60.000, steps: 60\n",
            "Episode 67: reward: -60.000, steps: 60\n",
            "Episode 68: reward: -60.000, steps: 60\n",
            "Episode 69: reward: -60.000, steps: 60\n",
            "Episode 70: reward: -60.000, steps: 60\n",
            "Episode 71: reward: 60.000, steps: 60\n",
            "Episode 72: reward: 60.000, steps: 60\n",
            "Episode 73: reward: -60.000, steps: 60\n",
            "Episode 74: reward: 60.000, steps: 60\n",
            "Episode 75: reward: -60.000, steps: 60\n",
            "Episode 76: reward: 60.000, steps: 60\n",
            "Episode 77: reward: -60.000, steps: 60\n",
            "Episode 78: reward: 60.000, steps: 60\n",
            "Episode 79: reward: 60.000, steps: 60\n",
            "Episode 80: reward: 60.000, steps: 60\n",
            "Episode 81: reward: 60.000, steps: 60\n",
            "Episode 82: reward: -60.000, steps: 60\n",
            "Episode 83: reward: -60.000, steps: 60\n",
            "Episode 84: reward: 60.000, steps: 60\n",
            "Episode 85: reward: -60.000, steps: 60\n",
            "Episode 86: reward: 60.000, steps: 60\n",
            "Episode 87: reward: -60.000, steps: 60\n",
            "Episode 88: reward: -60.000, steps: 60\n",
            "Episode 89: reward: -60.000, steps: 60\n",
            "Episode 90: reward: 60.000, steps: 60\n",
            "Episode 91: reward: -60.000, steps: 60\n",
            "Episode 92: reward: 60.000, steps: 60\n",
            "Episode 93: reward: 60.000, steps: 60\n",
            "Episode 94: reward: -60.000, steps: 60\n",
            "Episode 95: reward: -60.000, steps: 60\n",
            "Episode 96: reward: -60.000, steps: 60\n",
            "Episode 97: reward: -60.000, steps: 60\n",
            "Episode 98: reward: 60.000, steps: 60\n",
            "Episode 99: reward: -60.000, steps: 60\n",
            "Episode 100: reward: 60.000, steps: 60\n",
            "-12.0\n"
          ]
        }
      ]
    },
    {
      "cell_type": "code",
      "source": [],
      "metadata": {
        "id": "ukKhfEhxmWNc"
      },
      "execution_count": null,
      "outputs": []
    }
  ]
}